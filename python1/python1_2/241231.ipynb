{
 "cells": [
  {
   "cell_type": "code",
   "execution_count": 1,
   "metadata": {},
   "outputs": [
    {
     "name": "stdout",
     "output_type": "stream",
     "text": [
      "888\n"
     ]
    }
   ],
   "source": [
    "a = 24\n",
    "b = 37\n",
    "print(a * b)"
   ]
  },
  {
   "cell_type": "code",
   "execution_count": 2,
   "metadata": {},
   "outputs": [
    {
     "name": "stdout",
     "output_type": "stream",
     "text": [
      "13\n"
     ]
    }
   ],
   "source": [
    "print(b - a)"
   ]
  },
  {
   "cell_type": "code",
   "execution_count": 3,
   "metadata": {},
   "outputs": [
    {
     "name": "stdout",
     "output_type": "stream",
     "text": [
      "1\n",
      "2\n",
      "3\n",
      "4\n",
      "5\n",
      "6\n",
      "7\n",
      "8\n",
      "9\n"
     ]
    }
   ],
   "source": [
    "list1 = range(1, 10)\n",
    "for i in list1:\n",
    "    print(i)"
   ]
  },
  {
   "cell_type": "code",
   "execution_count": 4,
   "metadata": {},
   "outputs": [
    {
     "name": "stdout",
     "output_type": "stream",
     "text": [
      "0\n",
      "1\n",
      "2\n",
      "3\n",
      "4\n",
      "5\n",
      "6\n",
      "7\n",
      "8\n",
      "9\n"
     ]
    }
   ],
   "source": [
    "list1 = range(10)\n",
    "for i in list1:\n",
    "    print(i)"
   ]
  },
  {
   "cell_type": "code",
   "execution_count": 6,
   "metadata": {},
   "outputs": [
    {
     "name": "stdout",
     "output_type": "stream",
     "text": [
      "87\n",
      "B\n"
     ]
    }
   ],
   "source": [
    "score = int(input(\"점수를 입력하시오.\"))\n",
    "print(score)\n",
    "if score >= 90:\n",
    "    print(\"A\")\n",
    "elif score >= 80:\n",
    "    print(\"B\")\n",
    "elif score >= 70:\n",
    "    print(\"C\")\n",
    "elif score >= 60:\n",
    "    print(\"D\")\n",
    "else:\n",
    "    print(\"F\")"
   ]
  },
  {
   "cell_type": "code",
   "execution_count": 11,
   "metadata": {},
   "outputs": [
    {
     "name": "stdout",
     "output_type": "stream",
     "text": [
      "[1, 1, 3, 3]\n"
     ]
    }
   ],
   "source": [
    "numbers = [1,2,3]\n",
    "numbers.append(0)\n",
    "for i in numbers:\n",
    "    numbers[i] = numbers[i-1]\n",
    "print(numbers)"
   ]
  },
  {
   "cell_type": "code",
   "execution_count": 10,
   "metadata": {},
   "outputs": [
    {
     "name": "stdout",
     "output_type": "stream",
     "text": [
      "[1, 1, 3]\n"
     ]
    }
   ],
   "source": [
    "numbers = [1,2,3]\n",
    "numbers.append(0)\n",
    "for i in numbers:\n",
    "    numbers[i] = numbers[i-1]\n",
    "del numbers[len(numbers) - 1]\n",
    "print(numbers)"
   ]
  },
  {
   "cell_type": "code",
   "execution_count": 12,
   "metadata": {},
   "outputs": [
    {
     "name": "stdout",
     "output_type": "stream",
     "text": [
      "1\n"
     ]
    }
   ],
   "source": [
    "print(numbers[0])"
   ]
  },
  {
   "cell_type": "code",
   "execution_count": 13,
   "metadata": {},
   "outputs": [
    {
     "name": "stdout",
     "output_type": "stream",
     "text": [
      "[1, 3, 3]\n"
     ]
    }
   ],
   "source": [
    "numbers = [1,2,3]\n",
    "numbers.append(0)\n",
    "for i in numbers:\n",
    "    numbers[i] = numbers[i-1]\n",
    "del numbers[0]\n",
    "print(numbers)"
   ]
  },
  {
   "cell_type": "code",
   "execution_count": 15,
   "metadata": {},
   "outputs": [
    {
     "name": "stdout",
     "output_type": "stream",
     "text": [
      "right\n",
      "[3, 1, 2]\n"
     ]
    }
   ],
   "source": [
    "\"\"\"\n",
    "정수가 담긴 배열 numbers와 문자열 direction가 매개변수로 주어집니다. \n",
    "배열 numbers의 원소를 direction방향으로 한 칸씩 회전시킨 배열을 return하도록 \n",
    "solution 함수를 완성해주세요.\n",
    "\"\"\"\n",
    "\n",
    "numbers = [1,2,3]\n",
    "direction = input(\"방향을 입력하시오.\")\n",
    "print(direction)\n",
    "if direction == \"right\":\n",
    "    numbers.insert(0, numbers[-1])\n",
    "    del numbers[-1]\n",
    "    print(numbers)\n",
    "elif direction == \"left\":\n",
    "    numbers.insert(-1, numbers[0])\n",
    "    del numbers[0]\n",
    "    print(numbers)"
   ]
  },
  {
   "cell_type": "code",
   "execution_count": 16,
   "metadata": {},
   "outputs": [
    {
     "name": "stdout",
     "output_type": "stream",
     "text": [
      "left\n",
      "[455, 6, 4, -1, 45, 4, 6]\n"
     ]
    }
   ],
   "source": [
    "numbers = [4, 455, 6, 4, -1, 45, 6]\n",
    "direction = input(\"방향을 입력하시오.\")\n",
    "print(direction)\n",
    "if direction == \"right\":\n",
    "    numbers.insert(0, numbers[-1])\n",
    "    del numbers[-1]\n",
    "    print(numbers)\n",
    "elif direction == \"left\":\n",
    "    numbers.insert(-1, numbers[0])\n",
    "    del numbers[0]\n",
    "    print(numbers)"
   ]
  },
  {
   "cell_type": "code",
   "execution_count": null,
   "metadata": {},
   "outputs": [],
   "source": []
  }
 ],
 "metadata": {
  "kernelspec": {
   "display_name": "Python 3",
   "language": "python",
   "name": "python3"
  },
  "language_info": {
   "codemirror_mode": {
    "name": "ipython",
    "version": 3
   },
   "file_extension": ".py",
   "mimetype": "text/x-python",
   "name": "python",
   "nbconvert_exporter": "python",
   "pygments_lexer": "ipython3",
   "version": "3.11.4"
  }
 },
 "nbformat": 4,
 "nbformat_minor": 2
}
