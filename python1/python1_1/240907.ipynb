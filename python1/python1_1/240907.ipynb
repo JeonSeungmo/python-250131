{
 "cells": [
  {
   "cell_type": "code",
   "execution_count": 1,
   "metadata": {},
   "outputs": [
    {
     "name": "stdout",
     "output_type": "stream",
     "text": [
      "30\n"
     ]
    }
   ],
   "source": [
    "scores = [30, 50, 90, 89, 56, 87]\n",
    "score0  = scores[0]\n",
    "print(score0)"
   ]
  },
  {
   "cell_type": "code",
   "execution_count": 2,
   "metadata": {},
   "outputs": [
    {
     "name": "stdout",
     "output_type": "stream",
     "text": [
      "87\n",
      "30\n",
      "87\n",
      "89\n"
     ]
    }
   ],
   "source": [
    "print(scores[5])\n",
    "print(scores[0])\n",
    "print(scores[-1])\n",
    "print(scores[-3])"
   ]
  },
  {
   "cell_type": "code",
   "execution_count": 3,
   "metadata": {},
   "outputs": [
    {
     "name": "stdout",
     "output_type": "stream",
     "text": [
      "[30, 100, 90, 89, 56, 87]\n"
     ]
    }
   ],
   "source": [
    "scores[1] = 100\n",
    "print(scores)"
   ]
  },
  {
   "cell_type": "code",
   "execution_count": 4,
   "metadata": {},
   "outputs": [
    {
     "name": "stdout",
     "output_type": "stream",
     "text": [
      "[30, 100, 90, 89, 56, 87, 99]\n"
     ]
    }
   ],
   "source": [
    "scores.append(99)\n",
    "print(scores)"
   ]
  },
  {
   "cell_type": "code",
   "execution_count": 5,
   "metadata": {},
   "outputs": [
    {
     "name": "stdout",
     "output_type": "stream",
     "text": [
      "[30, 33, 100, 90, 89, 56, 87, 99]\n"
     ]
    }
   ],
   "source": [
    "scores.insert(1, 33) # 1 자리에 삽입\n",
    "print(scores)"
   ]
  },
  {
   "cell_type": "code",
   "execution_count": 6,
   "metadata": {},
   "outputs": [
    {
     "name": "stdout",
     "output_type": "stream",
     "text": [
      "[1, 2, 3, 4, 5, 5, 6, 7, 8, 9, 10]\n"
     ]
    }
   ],
   "source": [
    "list1 = [1,2,3,4,5]\n",
    "list2 = [5,6,7,8,9,10]\n",
    "print(list1 + list2)"
   ]
  },
  {
   "cell_type": "code",
   "execution_count": 8,
   "metadata": {},
   "outputs": [
    {
     "name": "stdout",
     "output_type": "stream",
     "text": [
      "scores의 길이는 8입니다.\n",
      "scores의 길이는 8입니다.\n"
     ]
    }
   ],
   "source": [
    "length = len(scores)\n",
    "print(f\"scores의 길이는 {length}입니다.\")\n",
    "print(f\"scores의 길이는 {len(scores)}입니다.\")"
   ]
  },
  {
   "cell_type": "code",
   "execution_count": 9,
   "metadata": {},
   "outputs": [
    {
     "name": "stdout",
     "output_type": "stream",
     "text": [
      "[0, 1, 2, 3]\n"
     ]
    }
   ],
   "source": [
    "numbers = [0, 1, 2, 3, 4, 5, 6, 7]\n",
    "numbers1 = numbers[0:4]\n",
    "print(numbers1)"
   ]
  },
  {
   "cell_type": "code",
   "execution_count": 10,
   "metadata": {},
   "outputs": [
    {
     "name": "stdout",
     "output_type": "stream",
     "text": [
      "[3, 4, 5, 6, 7]\n"
     ]
    }
   ],
   "source": [
    "print(numbers[3:])"
   ]
  },
  {
   "cell_type": "code",
   "execution_count": 13,
   "metadata": {},
   "outputs": [
    {
     "name": "stdout",
     "output_type": "stream",
     "text": [
      "[1, 2, 3, 4, 5, 6, 7, 8, 9]\n"
     ]
    }
   ],
   "source": [
    "r1 = list(range(1, 10, 1))\n",
    "print(r1)"
   ]
  },
  {
   "cell_type": "code",
   "execution_count": 14,
   "metadata": {},
   "outputs": [
    {
     "name": "stdout",
     "output_type": "stream",
     "text": [
      "[10, 12, 14, 16, 18]\n"
     ]
    }
   ],
   "source": [
    "r2 = list(range(10, 20, 2))\n",
    "print(r2)"
   ]
  },
  {
   "cell_type": "code",
   "execution_count": 15,
   "metadata": {},
   "outputs": [
    {
     "name": "stdout",
     "output_type": "stream",
     "text": [
      "[10, 9, 8, 7, 6, 5, 4, 3, 2]\n"
     ]
    }
   ],
   "source": [
    "r3 = list(range(10, 1, -1))\n",
    "print(r3)"
   ]
  },
  {
   "cell_type": "code",
   "execution_count": 16,
   "metadata": {},
   "outputs": [
    {
     "name": "stdout",
     "output_type": "stream",
     "text": [
      "[0, 1, 2, 3, 4, 5, 6, 7, 8, 9]\n"
     ]
    }
   ],
   "source": [
    "list1 = list(range(10))\n",
    "print(list1)"
   ]
  },
  {
   "cell_type": "code",
   "execution_count": 17,
   "metadata": {},
   "outputs": [
    {
     "name": "stdout",
     "output_type": "stream",
     "text": [
      "('Tesla', 'model3', 'red', 500)\n"
     ]
    }
   ],
   "source": [
    "car = (\"Tesla\", \"model3\", \"red\", 500)\n",
    "print(car)"
   ]
  },
  {
   "cell_type": "code",
   "execution_count": 18,
   "metadata": {},
   "outputs": [
    {
     "name": "stdout",
     "output_type": "stream",
     "text": [
      "(0, 1, 2, 3, 4, 5, 6, 7, 8, 9)\n"
     ]
    }
   ],
   "source": [
    "print(tuple(range(10)))"
   ]
  },
  {
   "cell_type": "code",
   "execution_count": 19,
   "metadata": {},
   "outputs": [
    {
     "name": "stdout",
     "output_type": "stream",
     "text": [
      "(-5, -3, -1, 1, 3, 5, 7, 9, 11, 13)\n"
     ]
    }
   ],
   "source": [
    "print(tuple(range(-5, 15, 2)))"
   ]
  },
  {
   "cell_type": "code",
   "execution_count": 20,
   "metadata": {},
   "outputs": [
    {
     "name": "stdout",
     "output_type": "stream",
     "text": [
      "8\n",
      "11\n"
     ]
    }
   ],
   "source": [
    "age = input(\"나이를 입력하시오\") # 문자형\n",
    "print(age)\n",
    "num = 3\n",
    "print(num + int(age))"
   ]
  },
  {
   "cell_type": "code",
   "execution_count": 21,
   "metadata": {},
   "outputs": [
    {
     "name": "stdout",
     "output_type": "stream",
     "text": [
      "당신은 미성년자입니다.\n",
      "당신은 입장할 수 없습니다.\n"
     ]
    }
   ],
   "source": [
    "adult = 18\n",
    "age = 17\n",
    "if age < adult:\n",
    "    print(\"당신은 미성년자입니다.\")\n",
    "    print(\"당신은 입장할 수 없습니다.\")"
   ]
  },
  {
   "cell_type": "code",
   "execution_count": 23,
   "metadata": {},
   "outputs": [
    {
     "name": "stdout",
     "output_type": "stream",
     "text": [
      "당신은 남자가 아닙니다.\n"
     ]
    }
   ],
   "source": [
    "gender = \"female\"\n",
    "\n",
    "if gender == \"male\":\n",
    "    print(\"당신은 남자입니다.\")\n",
    "else:\n",
    "    print(\"당신은 남자가 아닙니다.\")"
   ]
  },
  {
   "cell_type": "code",
   "execution_count": 24,
   "metadata": {},
   "outputs": [
    {
     "name": "stdout",
     "output_type": "stream",
     "text": [
      "A\n"
     ]
    }
   ],
   "source": [
    "score = 90\n",
    "if score >= 90:\n",
    "    result = \"A\"\n",
    "elif score >= 80:\n",
    "    result = \"B\"\n",
    "elif score >= 70:\n",
    "    result = \"C\"\n",
    "elif score >= 60:\n",
    "    result = \"D\"\n",
    "else:\n",
    "    result = \"F\"\n",
    "print(result)"
   ]
  },
  {
   "cell_type": "code",
   "execution_count": 26,
   "metadata": {},
   "outputs": [
    {
     "name": "stdout",
     "output_type": "stream",
     "text": [
      "77\n",
      "C\n"
     ]
    }
   ],
   "source": [
    "score = int(input(\"점수를 입력하시오\"))\n",
    "if score >= 90:\n",
    "    result = \"A\"\n",
    "elif score >= 80:\n",
    "    result = \"B\"\n",
    "elif score >= 70:\n",
    "    result = \"C\"\n",
    "elif score >= 60:\n",
    "    result = \"D\"\n",
    "else:\n",
    "    result = \"F\"\n",
    "print(score)\n",
    "print(result)"
   ]
  },
  {
   "cell_type": "code",
   "execution_count": 27,
   "metadata": {},
   "outputs": [
    {
     "name": "stdout",
     "output_type": "stream",
     "text": [
      "Hello, World!\n",
      "Hello, World!\n",
      "Hello, World!\n",
      "Hello, World!\n",
      "Hello, World!\n",
      "Hello, World!\n",
      "Hello, World!\n",
      "Hello, World!\n",
      "Hello, World!\n",
      "Hello, World!\n"
     ]
    }
   ],
   "source": [
    "for i in range(10):\n",
    "    print(\"Hello, World!\")"
   ]
  },
  {
   "cell_type": "code",
   "execution_count": 29,
   "metadata": {},
   "outputs": [
    {
     "name": "stdout",
     "output_type": "stream",
     "text": [
      "(0, 0) Hello, World!\n",
      "(1, 1) Hello, World!\n",
      "(2, 2) Hello, World!\n",
      "(3, 3) Hello, World!\n",
      "(4, 4) Hello, World!\n",
      "(5, 5) Hello, World!\n",
      "(6, 6) Hello, World!\n",
      "(7, 7) Hello, World!\n",
      "(8, 8) Hello, World!\n",
      "(9, 9) Hello, World!\n"
     ]
    }
   ],
   "source": [
    "for i in enumerate(range(10)):\n",
    "    print(i, \"Hello, World!\")"
   ]
  },
  {
   "cell_type": "code",
   "execution_count": 33,
   "metadata": {},
   "outputs": [
    {
     "name": "stdout",
     "output_type": "stream",
     "text": [
      "0 Hello, World!\n",
      "1 Hello, World!\n",
      "2 Hello, World!\n",
      "3 Hello, World!\n",
      "4 Hello, World!\n",
      "5 Hello, World!\n",
      "6 Hello, World!\n",
      "7 Hello, World!\n",
      "8 Hello, World!\n",
      "9 Hello, World!\n"
     ]
    }
   ],
   "source": [
    "list1 = list(range(10))\n",
    "for i in enumerate(list1):\n",
    "    print(i, \"Hello, World!\")"
   ]
  },
  {
   "cell_type": "code",
   "execution_count": 32,
   "metadata": {},
   "outputs": [
    {
     "name": "stdout",
     "output_type": "stream",
     "text": [
      "[0, 1, 2, 3, 4, 5, 6, 7, 8, 9]\n"
     ]
    }
   ],
   "source": [
    "print(list1)"
   ]
  },
  {
   "cell_type": "code",
   "execution_count": 34,
   "metadata": {},
   "outputs": [
    {
     "name": "stdout",
     "output_type": "stream",
     "text": [
      "0 Hello, World!\n",
      "1 Hello, World!\n",
      "2 Hello, World!\n",
      "3 Hello, World!\n",
      "4 Hello, World!\n",
      "5 Hello, World!\n",
      "6 Hello, World!\n",
      "7 Hello, World!\n",
      "8 Hello, World!\n",
      "9 Hello, World!\n"
     ]
    }
   ],
   "source": [
    "for i, num in enumerate(range(10)):\n",
    "    print(i, \"Hello, World!\")"
   ]
  },
  {
   "cell_type": "code",
   "execution_count": 35,
   "metadata": {},
   "outputs": [
    {
     "name": "stdout",
     "output_type": "stream",
     "text": [
      "0 Vaundy\n",
      "1 Kaze\n",
      "2 Ayase\n"
     ]
    }
   ],
   "source": [
    "Arr = ['Vaundy', 'Kaze', 'Ayase']\n",
    "for i in range(len(Arr)):\n",
    "    print(i, Arr[i])"
   ]
  },
  {
   "cell_type": "code",
   "execution_count": 36,
   "metadata": {},
   "outputs": [
    {
     "name": "stdout",
     "output_type": "stream",
     "text": [
      "0 hello\n",
      "1 hello\n",
      "2 hello\n",
      "3 hello\n",
      "4 hello\n",
      "5 hello\n",
      "6 hello\n",
      "7 hello\n",
      "8 hello\n",
      "9 hello\n"
     ]
    }
   ],
   "source": [
    "for i in range(10):\n",
    "    print(i, \"hello\")"
   ]
  },
  {
   "cell_type": "code",
   "execution_count": 37,
   "metadata": {},
   "outputs": [
    {
     "name": "stdout",
     "output_type": "stream",
     "text": [
      "0 Vaundy\n",
      "1 Kaze\n",
      "2 Ayase\n"
     ]
    }
   ],
   "source": [
    "Arr = ['Vaundy', 'Kaze', 'Ayase']\n",
    "for i, name in enumerate(Arr):\n",
    "    print(i, name)"
   ]
  },
  {
   "cell_type": "code",
   "execution_count": 38,
   "metadata": {},
   "outputs": [
    {
     "name": "stdout",
     "output_type": "stream",
     "text": [
      "hello 1\n",
      "hello 2\n",
      "hello 3\n",
      "hello 4\n",
      "hello 5\n",
      "hello 6\n",
      "hello 7\n",
      "hello 8\n",
      "hello 9\n"
     ]
    }
   ],
   "source": [
    "for i in range(1, 10):\n",
    "    print(\"hello\", i)"
   ]
  },
  {
   "cell_type": "code",
   "execution_count": 39,
   "metadata": {},
   "outputs": [
    {
     "name": "stdout",
     "output_type": "stream",
     "text": [
      "0 hello 1\n",
      "1 hello 2\n",
      "2 hello 3\n",
      "3 hello 4\n",
      "4 hello 5\n",
      "5 hello 6\n",
      "6 hello 7\n",
      "7 hello 8\n",
      "8 hello 9\n"
     ]
    }
   ],
   "source": [
    "for seq, i in enumerate(range(1, 10)): # seq는 리스트 인덱스, i는 리스트원소의 이름\n",
    "    print(seq, \"hello\", i)"
   ]
  },
  {
   "cell_type": "code",
   "execution_count": null,
   "metadata": {},
   "outputs": [],
   "source": []
  }
 ],
 "metadata": {
  "kernelspec": {
   "display_name": "Python 3",
   "language": "python",
   "name": "python3"
  },
  "language_info": {
   "codemirror_mode": {
    "name": "ipython",
    "version": 3
   },
   "file_extension": ".py",
   "mimetype": "text/x-python",
   "name": "python",
   "nbconvert_exporter": "python",
   "pygments_lexer": "ipython3",
   "version": "3.11.4"
  }
 },
 "nbformat": 4,
 "nbformat_minor": 2
}
