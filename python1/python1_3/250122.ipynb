{
 "cells": [
  {
   "cell_type": "code",
   "execution_count": null,
   "metadata": {},
   "outputs": [],
   "source": [
    "def search(dirname):\n",
    "    print(dirname)\n",
    "\n",
    "search(\"D:\\\\20240902_python\\\\python1_3\\\\\")"
   ]
  },
  {
   "cell_type": "code",
   "execution_count": 3,
   "metadata": {},
   "outputs": [
    {
     "name": "stdout",
     "output_type": "stream",
     "text": [
      "['250113.ipynb', '250114.ipynb', '250115.ipynb', '250116.ipynb', '250117.ipynb', '250118.ipynb', '250119.ipynb', '250120.ipynb', '250122.ipynb', 'foo.txt', 'memo.py', 'memo.txt', '새파일.txt', '새파일2.txt']\n"
     ]
    }
   ],
   "source": [
    "import os\n",
    "\n",
    "def search(dirname):\n",
    "    filenames = os.listdir(dirname)\n",
    "    print(filenames)\n",
    "\n",
    "search(\"D:\\\\20240902_python\\\\python1_3\\\\\")"
   ]
  },
  {
   "cell_type": "code",
   "execution_count": 1,
   "metadata": {},
   "outputs": [
    {
     "name": "stdout",
     "output_type": "stream",
     "text": [
      "D:\\20240902_python\\python1_3\\250113.ipynb\n",
      "D:\\20240902_python\\python1_3\\250114.ipynb\n",
      "D:\\20240902_python\\python1_3\\250115.ipynb\n",
      "D:\\20240902_python\\python1_3\\250116.ipynb\n",
      "D:\\20240902_python\\python1_3\\250117.ipynb\n",
      "D:\\20240902_python\\python1_3\\250118.ipynb\n",
      "D:\\20240902_python\\python1_3\\250119.ipynb\n",
      "D:\\20240902_python\\python1_3\\250120.ipynb\n",
      "D:\\20240902_python\\python1_3\\250122.ipynb\n",
      "D:\\20240902_python\\python1_3\\foo.txt\n",
      "D:\\20240902_python\\python1_3\\memo.py\n",
      "D:\\20240902_python\\python1_3\\memo.txt\n",
      "D:\\20240902_python\\python1_3\\새파일.txt\n",
      "D:\\20240902_python\\python1_3\\새파일2.txt\n"
     ]
    }
   ],
   "source": [
    "import os\n",
    "\n",
    "def search(dirname):\n",
    "    filenames = os.listdir(dirname)\n",
    "    for filename in filenames:\n",
    "        full_filename = os.path.join(dirname, filename)\n",
    "        print(full_filename)\n",
    "\n",
    "search(\"D:\\\\20240902_python\\\\python1_3\\\\\")"
   ]
  },
  {
   "cell_type": "code",
   "execution_count": 2,
   "metadata": {},
   "outputs": [
    {
     "name": "stdout",
     "output_type": "stream",
     "text": [
      "D:\\20240902_python\\python1_3\\250113.ipynb\n",
      "D:\\20240902_python\\python1_3\\250114.ipynb\n",
      "D:\\20240902_python\\python1_3\\250115.ipynb\n",
      "D:\\20240902_python\\python1_3\\250116.ipynb\n",
      "D:\\20240902_python\\python1_3\\250117.ipynb\n",
      "D:\\20240902_python\\python1_3\\250118.ipynb\n",
      "D:\\20240902_python\\python1_3\\250119.ipynb\n",
      "D:\\20240902_python\\python1_3\\250120.ipynb\n",
      "D:\\20240902_python\\python1_3\\250122.ipynb\n",
      "D:\\20240902_python\\python1_3\\foo.txt\n",
      "D:\\20240902_python\\python1_3\\memo.py\n",
      "D:\\20240902_python\\python1_3\\memo.txt\n",
      "D:\\20240902_python\\python1_3\\새파일.txt\n",
      "D:\\20240902_python\\python1_3\\새파일2.txt\n"
     ]
    }
   ],
   "source": [
    "import os\n",
    "\n",
    "def search(dirname):\n",
    "    filenames = os.listdir(dirname)\n",
    "    for filename in filenames:\n",
    "        full_filename = os.path.join(dirname, filename)\n",
    "        print(full_filename)\n",
    "\n",
    "search(\"D:\\\\20240902_python\\\\python1_3\")"
   ]
  },
  {
   "cell_type": "code",
   "execution_count": 4,
   "metadata": {},
   "outputs": [
    {
     "name": "stdout",
     "output_type": "stream",
     "text": [
      "D:\\20240902_python\\python1_3\\memo.py\n"
     ]
    }
   ],
   "source": [
    "import os\n",
    "\n",
    "def search(dirname):\n",
    "    filenames = os.listdir(dirname)\n",
    "    for filename in filenames:\n",
    "        full_filename = os.path.join(dirname, filename)\n",
    "        ext = os.path.splitext(full_filename)[-1]\n",
    "        if ext == \".py\":\n",
    "            print(full_filename)\n",
    "\n",
    "search(\"D:\\\\20240902_python\\\\python1_3\\\\\")"
   ]
  },
  {
   "cell_type": "code",
   "execution_count": null,
   "metadata": {},
   "outputs": [],
   "source": [
    "# os.path.splitext는 파일 이름을 확장자를 기준으로 두 부분으로 나누어 준다."
   ]
  },
  {
   "cell_type": "code",
   "execution_count": 5,
   "metadata": {},
   "outputs": [
    {
     "name": "stdout",
     "output_type": "stream",
     "text": [
      "D:\\20240902_python\\python1_1\\mod1.py\n",
      "D:\\20240902_python\\python1_1\\mod2.py\n",
      "D:\\20240902_python\\python1_2\\game\\graphic\\render.py\n",
      "D:\\20240902_python\\python1_2\\game\\graphic\\__init__.py\n",
      "D:\\20240902_python\\python1_2\\game\\sound\\echo.py\n",
      "D:\\20240902_python\\python1_2\\game\\sound\\__init__.py\n",
      "D:\\20240902_python\\python1_2\\game\\__init__.py\n",
      "D:\\20240902_python\\python1_3\\memo.py\n"
     ]
    }
   ],
   "source": [
    "import os\n",
    "\n",
    "def search(dirname):\n",
    "    try:\n",
    "        filenames = os.listdir(dirname)\n",
    "        for filename in filenames:\n",
    "            full_filename = os.path.join(dirname, filename)\n",
    "            if os.path.isdir(full_filename):\n",
    "                search(full_filename)\n",
    "            else:\n",
    "                ext = os.path.splitext(full_filename)[-1]\n",
    "                if ext == \".py\":\n",
    "                    print(full_filename)\n",
    "    except PermissionError:\n",
    "        pass\n",
    "\n",
    "search(\"D:\\\\20240902_python\\\\\")"
   ]
  },
  {
   "cell_type": "code",
   "execution_count": 6,
   "metadata": {},
   "outputs": [
    {
     "name": "stdout",
     "output_type": "stream",
     "text": [
      "D:\\20240902_python\\python1_1\\mod1.py\n",
      "D:\\20240902_python\\python1_1\\mod2.py\n",
      "D:\\20240902_python\\python1_2\\game\\__init__.py\n",
      "D:\\20240902_python\\python1_2\\game\\graphic\\render.py\n",
      "D:\\20240902_python\\python1_2\\game\\graphic\\__init__.py\n",
      "D:\\20240902_python\\python1_2\\game\\sound\\echo.py\n",
      "D:\\20240902_python\\python1_2\\game\\sound\\__init__.py\n",
      "D:\\20240902_python\\python1_3\\memo.py\n"
     ]
    }
   ],
   "source": [
    "import os\n",
    "\n",
    "for (path, dir, files) in os.walk(\"D:\\\\20240902_python\\\\\"):\n",
    "    for filename in files:\n",
    "        ext = os.path.splitext(filename)[-1]\n",
    "        if ext == \".py\":\n",
    "            print(f\"{path}\\\\{filename}\")"
   ]
  },
  {
   "cell_type": "code",
   "execution_count": 7,
   "metadata": {},
   "outputs": [
    {
     "name": "stdout",
     "output_type": "stream",
     "text": [
      "D:\\20240902_python\\python1_1\\mod1.py\n",
      "D:\\20240902_python\\python1_1\\mod2.py\n",
      "D:\\20240902_python\\python1_2\\game\\__init__.py\n",
      "D:\\20240902_python\\python1_2\\game\\graphic\\render.py\n",
      "D:\\20240902_python\\python1_2\\game\\graphic\\__init__.py\n",
      "D:\\20240902_python\\python1_2\\game\\sound\\echo.py\n",
      "D:\\20240902_python\\python1_2\\game\\sound\\__init__.py\n",
      "D:\\20240902_python\\python1_3\\memo.py\n"
     ]
    }
   ],
   "source": [
    "import os\n",
    "\n",
    "# 검색할 디렉토리 설정\n",
    "base_directory = \"D:\\\\20240902_python\\\\\"\n",
    "\n",
    "# .py 파일 검색\n",
    "for root, dirs, files in os.walk(base_directory):\n",
    "    for file in files:\n",
    "        if file.endswith(\".py\"):\n",
    "            # 파일의 전체 경로 출력\n",
    "            print(os.path.join(root, file))"
   ]
  },
  {
   "cell_type": "code",
   "execution_count": null,
   "metadata": {},
   "outputs": [],
   "source": [
    "'''\n",
    "os.walk(base_directory)\n",
    "\n",
    "지정된 디렉토리(base_directory)를 시작으로, 하위 디렉토리를 재귀적으로 탐색합니다.\n",
    "각 반복에서 root, dirs, files를 반환합니다:\n",
    "root: 현재 탐색 중인 디렉토리 경로\n",
    "dirs: 현재 디렉토리 내의 하위 디렉토리 목록\n",
    "files: 현재 디렉토리 내의 파일 목록\n",
    "\n",
    "if file.endswith(\".py\")\n",
    ".py로 끝나는 파일만 필터링합니다.\n",
    "\n",
    "os.path.join(root, file)\n",
    "root와 file을 결합하여 해당 파일의 절대 경로를 생성합니다.\n",
    "'''"
   ]
  }
 ],
 "metadata": {
  "kernelspec": {
   "display_name": "Python 3",
   "language": "python",
   "name": "python3"
  },
  "language_info": {
   "codemirror_mode": {
    "name": "ipython",
    "version": 3
   },
   "file_extension": ".py",
   "mimetype": "text/x-python",
   "name": "python",
   "nbconvert_exporter": "python",
   "pygments_lexer": "ipython3",
   "version": "3.11.4"
  }
 },
 "nbformat": 4,
 "nbformat_minor": 2
}
