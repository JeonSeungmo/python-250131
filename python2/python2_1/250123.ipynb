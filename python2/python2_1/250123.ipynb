{
 "cells": [
  {
   "cell_type": "code",
   "execution_count": null,
   "metadata": {},
   "outputs": [],
   "source": [
    "pip install numpy"
   ]
  },
  {
   "cell_type": "code",
   "execution_count": 2,
   "metadata": {},
   "outputs": [],
   "source": [
    "import numpy as np"
   ]
  },
  {
   "cell_type": "code",
   "execution_count": 3,
   "metadata": {},
   "outputs": [
    {
     "name": "stdout",
     "output_type": "stream",
     "text": [
      "[1.3 2.  3.  4.  5. ] <class 'numpy.ndarray'> float64\n"
     ]
    }
   ],
   "source": [
    "list1 = [1.3, 2., 3, 4, 5]\n",
    "arr = np.array(list1)\n",
    "print(arr, type(arr), arr.dtype)"
   ]
  },
  {
   "cell_type": "code",
   "execution_count": 4,
   "metadata": {},
   "outputs": [
    {
     "name": "stdout",
     "output_type": "stream",
     "text": [
      "[[1, 2], [3, 4]]\n",
      "[[1 2]\n",
      " [3 4]] <class 'numpy.ndarray'> int64\n"
     ]
    }
   ],
   "source": [
    "list2 = [[1, 2], [3, 4]]\n",
    "print(list2)\n",
    "arr1 = np.array(list2)\n",
    "print(arr1, type(arr1), arr1.dtype)"
   ]
  },
  {
   "cell_type": "code",
   "execution_count": 5,
   "metadata": {},
   "outputs": [
    {
     "name": "stdout",
     "output_type": "stream",
     "text": [
      "[[1 2]\n",
      " [3 4]]\n",
      "[[10 20]\n",
      " [30 40]]\n"
     ]
    }
   ],
   "source": [
    "a = np.array([[1,2], [3,4]])\n",
    "print(a)\n",
    "b = np.array([[10,20], [30,40]])\n",
    "print(b)"
   ]
  },
  {
   "cell_type": "code",
   "execution_count": 6,
   "metadata": {},
   "outputs": [
    {
     "name": "stdout",
     "output_type": "stream",
     "text": [
      "(2, 2)\n",
      "2\n",
      "int64\n",
      "8\n",
      "4\n"
     ]
    }
   ],
   "source": [
    "print(a.shape)\n",
    "print(a.ndim)\n",
    "print(a.dtype)\n",
    "print(a.itemsize)\n",
    "print(a.size)"
   ]
  },
  {
   "cell_type": "code",
   "execution_count": 7,
   "metadata": {},
   "outputs": [
    {
     "name": "stdout",
     "output_type": "stream",
     "text": [
      "[[11 22]\n",
      " [33 44]]\n"
     ]
    }
   ],
   "source": [
    "c = a + b\n",
    "print(c)"
   ]
  },
  {
   "cell_type": "code",
   "execution_count": 8,
   "metadata": {},
   "outputs": [
    {
     "name": "stdout",
     "output_type": "stream",
     "text": [
      "[[ 9 18]\n",
      " [27 36]]\n"
     ]
    }
   ],
   "source": [
    "d = b - a\n",
    "print(d)"
   ]
  },
  {
   "cell_type": "code",
   "execution_count": 9,
   "metadata": {},
   "outputs": [
    {
     "name": "stdout",
     "output_type": "stream",
     "text": [
      "[[ 10  40]\n",
      " [ 90 160]]\n"
     ]
    }
   ],
   "source": [
    "e = a * b\n",
    "print(e)"
   ]
  },
  {
   "cell_type": "code",
   "execution_count": 10,
   "metadata": {},
   "outputs": [
    {
     "name": "stdout",
     "output_type": "stream",
     "text": [
      "[[ 70 100]\n",
      " [150 220]]\n"
     ]
    }
   ],
   "source": [
    "f = a @ b\n",
    "print(f)"
   ]
  },
  {
   "cell_type": "code",
   "execution_count": 11,
   "metadata": {},
   "outputs": [
    {
     "name": "stdout",
     "output_type": "stream",
     "text": [
      "[[ 70 100]\n",
      " [150 220]]\n"
     ]
    }
   ],
   "source": [
    "f = np.matmul(a, b)\n",
    "print(f)"
   ]
  },
  {
   "cell_type": "code",
   "execution_count": 12,
   "metadata": {},
   "outputs": [
    {
     "name": "stdout",
     "output_type": "stream",
     "text": [
      "[[1 2 3]\n",
      " [4 5 6]]\n",
      "(2, 3) 2\n"
     ]
    }
   ],
   "source": [
    "mat1 = np.array([[1,2,3], [4,5,6]])\n",
    "print(mat1)\n",
    "print(mat1.shape, mat1.ndim)"
   ]
  },
  {
   "cell_type": "code",
   "execution_count": 13,
   "metadata": {},
   "outputs": [
    {
     "name": "stdout",
     "output_type": "stream",
     "text": [
      "[[10 20 30]\n",
      " [40 50 60]\n",
      " [70 80 90]]\n",
      "(3, 3) 2\n"
     ]
    }
   ],
   "source": [
    "mat2 = np.array([[10,20,30], [40,50,60], [70,80,90]])\n",
    "print(mat2)\n",
    "print(mat2.shape, mat2.ndim)"
   ]
  },
  {
   "cell_type": "code",
   "execution_count": 14,
   "metadata": {},
   "outputs": [
    {
     "name": "stdout",
     "output_type": "stream",
     "text": [
      "[[300 360 420]\n",
      " [660 810 960]] (2, 3) 2\n",
      "[[300 360 420]\n",
      " [660 810 960]] (2, 3) 2\n"
     ]
    }
   ],
   "source": [
    "mat3 = mat1 @ mat2\n",
    "print(mat3, mat3.shape, mat3.ndim)\n",
    "mat4 = np.matmul(mat1, mat2)\n",
    "print(mat4, mat4.shape, mat4.ndim)"
   ]
  },
  {
   "cell_type": "code",
   "execution_count": 15,
   "metadata": {},
   "outputs": [
    {
     "name": "stdout",
     "output_type": "stream",
     "text": [
      "[[0. 0. 0.]\n",
      " [0. 0. 0.]]\n"
     ]
    }
   ],
   "source": [
    "mat3 = np.zeros((2,3))\n",
    "print(mat3)"
   ]
  },
  {
   "cell_type": "code",
   "execution_count": 18,
   "metadata": {},
   "outputs": [
    {
     "name": "stdout",
     "output_type": "stream",
     "text": [
      "[[1. 1. 1.]\n",
      " [1. 1. 1.]]\n"
     ]
    }
   ],
   "source": [
    "mat4 = np.ones((2,3))\n",
    "print(mat4)"
   ]
  },
  {
   "cell_type": "code",
   "execution_count": 19,
   "metadata": {},
   "outputs": [
    {
     "name": "stdout",
     "output_type": "stream",
     "text": [
      "[[100 100 100]\n",
      " [100 100 100]]\n"
     ]
    }
   ],
   "source": [
    "mat5 = np.full((2,3), 100)\n",
    "print(mat5)"
   ]
  },
  {
   "cell_type": "code",
   "execution_count": 20,
   "metadata": {},
   "outputs": [
    {
     "name": "stdout",
     "output_type": "stream",
     "text": [
      "[[5 5 5 5]\n",
      " [5 5 5 5]\n",
      " [5 5 5 5]]\n"
     ]
    }
   ],
   "source": [
    "mat6 = np.full((3,4), 5)\n",
    "print(mat6)"
   ]
  },
  {
   "cell_type": "code",
   "execution_count": 21,
   "metadata": {},
   "outputs": [
    {
     "name": "stdout",
     "output_type": "stream",
     "text": [
      "[[1. 0. 0.]\n",
      " [0. 1. 0.]\n",
      " [0. 0. 1.]]\n"
     ]
    }
   ],
   "source": [
    "mat7 = np.eye(3)\n",
    "print(mat7)"
   ]
  },
  {
   "cell_type": "code",
   "execution_count": 22,
   "metadata": {},
   "outputs": [
    {
     "name": "stdout",
     "output_type": "stream",
     "text": [
      "[[0.8638215  0.44938454 0.03552998 0.46410158]\n",
      " [0.39650072 0.36536734 0.02666309 0.95068792]\n",
      " [0.26437589 0.41901339 0.70999555 0.29853283]]\n"
     ]
    }
   ],
   "source": [
    "mat8 = np.random.random((3, 4))\n",
    "print(mat8)"
   ]
  },
  {
   "cell_type": "code",
   "execution_count": 25,
   "metadata": {},
   "outputs": [
    {
     "name": "stdout",
     "output_type": "stream",
     "text": [
      "range(0, 10)\n"
     ]
    }
   ],
   "source": [
    "print(range(0, 10))"
   ]
  },
  {
   "cell_type": "code",
   "execution_count": 24,
   "metadata": {},
   "outputs": [
    {
     "name": "stdout",
     "output_type": "stream",
     "text": [
      "[0 1 2 3 4 5 6 7 8 9]\n",
      "<class 'numpy.ndarray'> (10,) 1\n"
     ]
    }
   ],
   "source": [
    "a = np.arange(0, 10)\n",
    "print(a)\n",
    "print(type(a), a.shape, a.ndim)"
   ]
  },
  {
   "cell_type": "code",
   "execution_count": 26,
   "metadata": {},
   "outputs": [
    {
     "name": "stdout",
     "output_type": "stream",
     "text": [
      "[0 2 4 6 8]\n",
      "[0.  0.2 0.4 0.6 0.8]\n"
     ]
    }
   ],
   "source": [
    "b = np.arange(0, 10, 2)\n",
    "print(b)\n",
    "c = np.arange(0, 1.0, 0.2)\n",
    "print(c)"
   ]
  },
  {
   "cell_type": "code",
   "execution_count": 27,
   "metadata": {},
   "outputs": [
    {
     "name": "stdout",
     "output_type": "stream",
     "text": [
      "[[0 1 2 3 4]\n",
      " [5 6 7 8 9]] (2, 5)\n"
     ]
    }
   ],
   "source": [
    "d = np.arange(0, 10).reshape(2, 5)\n",
    "print(d, d.shape)"
   ]
  },
  {
   "cell_type": "code",
   "execution_count": 28,
   "metadata": {},
   "outputs": [
    {
     "name": "stdout",
     "output_type": "stream",
     "text": [
      "[[0 1]\n",
      " [2 3]\n",
      " [4 5]\n",
      " [6 7]\n",
      " [8 9]]\n",
      "[[ 0  1  2  3]\n",
      " [ 4  5  6  7]\n",
      " [ 8  9 10 11]]\n",
      "[[ 0  1  2  3  4  5]\n",
      " [ 6  7  8  9 10 11]\n",
      " [12 13 14 15 16 17]]\n"
     ]
    }
   ],
   "source": [
    "e = np.arange(0, 10).reshape(5, 2)\n",
    "print(e)\n",
    "f = np.arange(0, 12).reshape(3, 4)\n",
    "print(f)\n",
    "g = np.arange(0, 18).reshape(3, 6)\n",
    "print(g)"
   ]
  },
  {
   "cell_type": "code",
   "execution_count": 29,
   "metadata": {},
   "outputs": [
    {
     "name": "stdout",
     "output_type": "stream",
     "text": [
      "[[[ 0  1]\n",
      "  [ 2  3]\n",
      "  [ 4  5]]\n",
      "\n",
      " [[ 6  7]\n",
      "  [ 8  9]\n",
      "  [10 11]]\n",
      "\n",
      " [[12 13]\n",
      "  [14 15]\n",
      "  [16 17]]\n",
      "\n",
      " [[18 19]\n",
      "  [20 21]\n",
      "  [22 23]]] (4, 3, 2) 3\n"
     ]
    }
   ],
   "source": [
    "arr = np.arange(0, 24).reshape(4, 3, 2)\n",
    "print(arr, arr.shape, arr.ndim)"
   ]
  },
  {
   "cell_type": "code",
   "execution_count": 30,
   "metadata": {},
   "outputs": [
    {
     "data": {
      "text/plain": [
       "array([[[ 0,  1],\n",
       "        [ 2,  3],\n",
       "        [ 4,  5],\n",
       "        [ 6,  7]],\n",
       "\n",
       "       [[ 8,  9],\n",
       "        [10, 11],\n",
       "        [12, 13],\n",
       "        [14, 15]],\n",
       "\n",
       "       [[16, 17],\n",
       "        [18, 19],\n",
       "        [20, 21],\n",
       "        [22, 23]],\n",
       "\n",
       "       [[24, 25],\n",
       "        [26, 27],\n",
       "        [28, 29],\n",
       "        [30, 31]],\n",
       "\n",
       "       [[32, 33],\n",
       "        [34, 35],\n",
       "        [36, 37],\n",
       "        [38, 39]]])"
      ]
     },
     "execution_count": 30,
     "metadata": {},
     "output_type": "execute_result"
    }
   ],
   "source": [
    "np.arange(0, 40).reshape(5, 4, 2)"
   ]
  },
  {
   "cell_type": "code",
   "execution_count": 31,
   "metadata": {},
   "outputs": [
    {
     "data": {
      "text/plain": [
       "array([[[ 0,  1],\n",
       "        [ 2,  3],\n",
       "        [ 4,  5],\n",
       "        [ 6,  7]],\n",
       "\n",
       "       [[ 8,  9],\n",
       "        [10, 11],\n",
       "        [12, 13],\n",
       "        [14, 15]],\n",
       "\n",
       "       [[16, 17],\n",
       "        [18, 19],\n",
       "        [20, 21],\n",
       "        [22, 23]],\n",
       "\n",
       "       [[24, 25],\n",
       "        [26, 27],\n",
       "        [28, 29],\n",
       "        [30, 31]],\n",
       "\n",
       "       [[32, 33],\n",
       "        [34, 35],\n",
       "        [36, 37],\n",
       "        [38, 39]]])"
      ]
     },
     "execution_count": 31,
     "metadata": {},
     "output_type": "execute_result"
    }
   ],
   "source": [
    "np.arange(0, 40).reshape(5, 4, -1)"
   ]
  },
  {
   "cell_type": "code",
   "execution_count": 32,
   "metadata": {},
   "outputs": [
    {
     "name": "stdout",
     "output_type": "stream",
     "text": [
      "[0 1 2]\n",
      "[5 6 7]\n"
     ]
    }
   ],
   "source": [
    "arr1 = np.arange(3)\n",
    "print(arr1)\n",
    "arr2 = arr1 + 5\n",
    "print(arr2)"
   ]
  },
  {
   "cell_type": "code",
   "execution_count": null,
   "metadata": {},
   "outputs": [],
   "source": []
  },
  {
   "cell_type": "code",
   "execution_count": 33,
   "metadata": {},
   "outputs": [
    {
     "name": "stdout",
     "output_type": "stream",
     "text": [
      "[[1. 1. 1.]\n",
      " [1. 1. 1.]\n",
      " [1. 1. 1.]] (3, 3)\n",
      "[0 1 2] (3,)\n",
      "[[1. 2. 3.]\n",
      " [1. 2. 3.]\n",
      " [1. 2. 3.]] (3, 3)\n"
     ]
    }
   ],
   "source": [
    "arr1 = np.ones((3, 3))\n",
    "print(arr1, arr1.shape)\n",
    "arr2 = np.arange(3)\n",
    "print(arr2, arr2.shape)\n",
    "arr3 = arr1 + arr2\n",
    "print(arr3, arr3.shape)"
   ]
  },
  {
   "cell_type": "code",
   "execution_count": 34,
   "metadata": {},
   "outputs": [
    {
     "name": "stdout",
     "output_type": "stream",
     "text": [
      "[[0]\n",
      " [1]\n",
      " [2]] (3, 1)\n",
      "[0 1 2] (3,)\n",
      "[[0 1 2]\n",
      " [1 2 3]\n",
      " [2 3 4]] (3, 3)\n"
     ]
    }
   ],
   "source": [
    "arr1 = np.arange(3).reshape(3, 1)\n",
    "print(arr1, arr1.shape)\n",
    "arr2 = np.arange(3)\n",
    "print(arr2, arr2.shape)\n",
    "arr3 = arr1 + arr2\n",
    "print(arr3, arr3.shape)"
   ]
  },
  {
   "cell_type": "code",
   "execution_count": 35,
   "metadata": {},
   "outputs": [
    {
     "name": "stdout",
     "output_type": "stream",
     "text": [
      "[0 1 2 3]\n",
      "1 3\n"
     ]
    }
   ],
   "source": [
    "a = np.arange(0, 4)\n",
    "print(a)\n",
    "print(a[1], a[3])"
   ]
  },
  {
   "cell_type": "code",
   "execution_count": 36,
   "metadata": {},
   "outputs": [
    {
     "name": "stdout",
     "output_type": "stream",
     "text": [
      "[[0 1]\n",
      " [2 3]\n",
      " [4 5]]\n"
     ]
    }
   ],
   "source": [
    "b = np.arange(6).reshape(3,2)\n",
    "print(b)"
   ]
  },
  {
   "cell_type": "code",
   "execution_count": 37,
   "metadata": {},
   "outputs": [
    {
     "name": "stdout",
     "output_type": "stream",
     "text": [
      "[0 1]\n",
      "1\n",
      "4\n",
      "3\n"
     ]
    }
   ],
   "source": [
    "print(b[0])\n",
    "print(b[0, 1]) # 1\n",
    "print(b[2, 0]) # 4\n",
    "print(b[1, 1]) # 3\n"
   ]
  },
  {
   "cell_type": "code",
   "execution_count": 38,
   "metadata": {},
   "outputs": [
    {
     "name": "stdout",
     "output_type": "stream",
     "text": [
      "[[[ 0  1]\n",
      "  [ 2  3]\n",
      "  [ 4  5]]\n",
      "\n",
      " [[ 6  7]\n",
      "  [ 8  9]\n",
      "  [10 11]]\n",
      "\n",
      " [[12 13]\n",
      "  [14 15]\n",
      "  [16 17]]\n",
      "\n",
      " [[18 19]\n",
      "  [20 21]\n",
      "  [22 23]]]\n"
     ]
    }
   ],
   "source": [
    "c = np.arange(24).reshape(4,3,2)\n",
    "print(c)"
   ]
  },
  {
   "cell_type": "code",
   "execution_count": 39,
   "metadata": {},
   "outputs": [
    {
     "name": "stdout",
     "output_type": "stream",
     "text": [
      "[[ 6  7]\n",
      " [ 8  9]\n",
      " [10 11]]\n",
      "[8 9]\n",
      "17\n"
     ]
    }
   ],
   "source": [
    "print(c[1])\n",
    "print(c[1, 1])\n",
    "print(c[2, 2, 1])"
   ]
  },
  {
   "cell_type": "code",
   "execution_count": 40,
   "metadata": {},
   "outputs": [
    {
     "name": "stdout",
     "output_type": "stream",
     "text": [
      "[1 2 3 4 5] int64\n"
     ]
    }
   ],
   "source": [
    "arr = np.array([1,2,3,4,5])\n",
    "print(arr, arr.dtype)"
   ]
  },
  {
   "cell_type": "code",
   "execution_count": 41,
   "metadata": {},
   "outputs": [
    {
     "name": "stdout",
     "output_type": "stream",
     "text": [
      "[1. 2. 3. 4. 5.] float64\n"
     ]
    }
   ],
   "source": [
    "f_arr = arr.astype(np.float64)\n",
    "print(f_arr, f_arr.dtype)"
   ]
  },
  {
   "cell_type": "code",
   "execution_count": 42,
   "metadata": {},
   "outputs": [
    {
     "name": "stdout",
     "output_type": "stream",
     "text": [
      "3 0\n"
     ]
    }
   ],
   "source": [
    "n1 = np.random.randint(0, 5)\n",
    "n2 = np.random.randint(7)\n",
    "print(n1, n2)"
   ]
  },
  {
   "cell_type": "code",
   "execution_count": 43,
   "metadata": {},
   "outputs": [
    {
     "data": {
      "text/plain": [
       "24"
      ]
     },
     "execution_count": 43,
     "metadata": {},
     "output_type": "execute_result"
    }
   ],
   "source": [
    "np.random.randint(1, 46)"
   ]
  },
  {
   "cell_type": "code",
   "execution_count": 44,
   "metadata": {},
   "outputs": [
    {
     "data": {
      "text/plain": [
       "array([0.27186416, 0.81245181, 0.8414318 , 0.79560559, 0.12157754,\n",
       "       0.4861238 , 0.86829233, 0.97517463, 0.9198012 , 0.93291236])"
      ]
     },
     "execution_count": 44,
     "metadata": {},
     "output_type": "execute_result"
    }
   ],
   "source": [
    "np.random.rand(10)"
   ]
  },
  {
   "cell_type": "code",
   "execution_count": 45,
   "metadata": {},
   "outputs": [
    {
     "data": {
      "text/plain": [
       "array([[0.68435036, 0.16717889, 0.92233608],\n",
       "       [0.48328801, 0.20185482, 0.24818696]])"
      ]
     },
     "execution_count": 45,
     "metadata": {},
     "output_type": "execute_result"
    }
   ],
   "source": [
    "np.random.rand(2, 3)"
   ]
  },
  {
   "cell_type": "code",
   "execution_count": 46,
   "metadata": {},
   "outputs": [
    {
     "data": {
      "text/plain": [
       "array([[[0.00806753, 0.91545842, 0.64653859, 0.10051072],\n",
       "        [0.70779227, 0.878503  , 0.8032081 , 0.53561576],\n",
       "        [0.58587479, 0.72095464, 0.19232671, 0.61484118]],\n",
       "\n",
       "       [[0.12153573, 0.49313643, 0.69066192, 0.20056874],\n",
       "        [0.88860955, 0.80975062, 0.18895   , 0.0316494 ],\n",
       "        [0.06112334, 0.70736548, 0.28900636, 0.93508743]]])"
      ]
     },
     "execution_count": 46,
     "metadata": {},
     "output_type": "execute_result"
    }
   ],
   "source": [
    "np.random.rand(2, 3, 4)"
   ]
  },
  {
   "cell_type": "code",
   "execution_count": 47,
   "metadata": {},
   "outputs": [
    {
     "data": {
      "text/plain": [
       "array([ 1.04305449, -0.3583296 , -0.75517044, -1.53100646,  0.54166393])"
      ]
     },
     "execution_count": 47,
     "metadata": {},
     "output_type": "execute_result"
    }
   ],
   "source": [
    "np.random.randn(5)"
   ]
  },
  {
   "cell_type": "code",
   "execution_count": 48,
   "metadata": {},
   "outputs": [
    {
     "data": {
      "text/plain": [
       "array([[-1.14817824, -2.16974141, -0.68165579,  0.05927827, -0.83509849],\n",
       "       [-1.32222991, -0.04631776,  0.73083453, -0.25664717,  0.02684633],\n",
       "       [-1.23859369,  0.32714684, -1.1480124 , -0.05848533, -0.96042728],\n",
       "       [ 1.3785198 , -0.40924853, -1.41862245,  1.36409905, -1.41967133]])"
      ]
     },
     "execution_count": 48,
     "metadata": {},
     "output_type": "execute_result"
    }
   ],
   "source": [
    "np.random.randn(4, 5)"
   ]
  },
  {
   "cell_type": "code",
   "execution_count": 49,
   "metadata": {},
   "outputs": [
    {
     "data": {
      "text/plain": [
       "array([[[ 1.20945701,  0.36327712, -0.82008726, -0.52644842,\n",
       "          1.16607733],\n",
       "        [ 1.60633257,  1.8481242 ,  0.12150595,  0.62336534,\n",
       "          0.85705466],\n",
       "        [ 1.67970905, -0.35660134, -0.10713445, -1.79442849,\n",
       "         -1.73268507],\n",
       "        [ 0.60319688, -0.27314989,  0.14522696,  0.42706392,\n",
       "          0.10296311]],\n",
       "\n",
       "       [[-0.77387476, -0.63582963, -1.3499778 ,  1.49658902,\n",
       "          1.52494159],\n",
       "        [ 1.01708666, -0.77873395, -0.34949073, -0.63909179,\n",
       "          0.62928495],\n",
       "        [-0.35187498,  0.08830809, -0.57570282, -1.59816657,\n",
       "         -1.43160509],\n",
       "        [ 0.33073244, -1.30299385,  0.03169905, -0.8578783 ,\n",
       "          0.11751138]],\n",
       "\n",
       "       [[-0.6153932 ,  0.90927597,  1.41446145, -0.21276059,\n",
       "         -0.68264815],\n",
       "        [-0.79976001, -0.26344939,  0.05152616,  0.15651402,\n",
       "          0.49922922],\n",
       "        [ 0.37091174, -0.38474079,  0.36634627,  0.04078298,\n",
       "          0.95911304],\n",
       "        [ 0.72816104, -1.04609574, -0.65359802, -1.20410933,\n",
       "         -1.21825723]]])"
      ]
     },
     "execution_count": 49,
     "metadata": {},
     "output_type": "execute_result"
    }
   ],
   "source": [
    "np.random.randn(3,4,5)"
   ]
  },
  {
   "cell_type": "code",
   "execution_count": 50,
   "metadata": {},
   "outputs": [
    {
     "name": "stdout",
     "output_type": "stream",
     "text": [
      "[0 1 2 3 4 5 6 7 8 9]\n",
      "[7 8 6 3 1 4 0 2 5 9]\n"
     ]
    }
   ],
   "source": [
    "arr = np.arange(10)\n",
    "print(arr)\n",
    "np.random.shuffle(arr)\n",
    "print(arr)"
   ]
  },
  {
   "cell_type": "code",
   "execution_count": 51,
   "metadata": {},
   "outputs": [
    {
     "name": "stdout",
     "output_type": "stream",
     "text": [
      "[[ 0  1  2  3  4  5]\n",
      " [ 6  7  8  9 10 11]\n",
      " [12 13 14 15 16 17]\n",
      " [18 19 20 21 22 23]]\n",
      "[[12 13 14 15 16 17]\n",
      " [ 0  1  2  3  4  5]\n",
      " [18 19 20 21 22 23]\n",
      " [ 6  7  8  9 10 11]]\n"
     ]
    }
   ],
   "source": [
    "arr1 = np.arange(24).reshape(4,6)\n",
    "print(arr1)\n",
    "np.random.shuffle(arr1)\n",
    "print(arr1)"
   ]
  },
  {
   "cell_type": "code",
   "execution_count": 52,
   "metadata": {},
   "outputs": [
    {
     "name": "stdout",
     "output_type": "stream",
     "text": [
      "[[[12 13 14 15]\n",
      "  [16 17  0  1]]\n",
      "\n",
      " [[ 2  3  4  5]\n",
      "  [18 19 20 21]]\n",
      "\n",
      " [[22 23  6  7]\n",
      "  [ 8  9 10 11]]]\n",
      "[[18 19 20 21 22 23]\n",
      " [12 13 14 15 16 17]\n",
      " [ 0  1  2  3  4  5]\n",
      " [ 6  7  8  9 10 11]]\n"
     ]
    }
   ],
   "source": [
    "arr2 = np.arange(24).reshape(4, 3, 2)\n",
    "np.random.shuffle(arr2)\n",
    "\n",
    "arr23 = arr1.reshape(3,2,4)\n",
    "print(arr23)\n",
    "\n",
    "arr32 = arr2.reshape(4, 6)\n",
    "print(arr32)"
   ]
  },
  {
   "cell_type": "code",
   "execution_count": 54,
   "metadata": {},
   "outputs": [
    {
     "name": "stdout",
     "output_type": "stream",
     "text": [
      "[[ 0  1  2  3]\n",
      " [ 4  5  6  7]\n",
      " [ 8  9 10 11]]\n",
      "66\n",
      "[12 15 18 21]\n",
      "[ 6 22 38]\n"
     ]
    }
   ],
   "source": [
    "arr = np.arange(12).reshape(3,4)\n",
    "print(arr)\n",
    "print(arr.sum())\n",
    "print(arr.sum(axis=0))\n",
    "print(arr.sum(axis=1))"
   ]
  },
  {
   "cell_type": "code",
   "execution_count": 55,
   "metadata": {},
   "outputs": [
    {
     "name": "stdout",
     "output_type": "stream",
     "text": [
      "[[[ 0  1]\n",
      "  [ 2  3]\n",
      "  [ 4  5]]\n",
      "\n",
      " [[ 6  7]\n",
      "  [ 8  9]\n",
      "  [10 11]]\n",
      "\n",
      " [[12 13]\n",
      "  [14 15]\n",
      "  [16 17]]\n",
      "\n",
      " [[18 19]\n",
      "  [20 21]\n",
      "  [22 23]]]\n"
     ]
    }
   ],
   "source": [
    "arr = np.arange(24).reshape(4,3,2)\n",
    "print(arr)"
   ]
  },
  {
   "cell_type": "code",
   "execution_count": 56,
   "metadata": {},
   "outputs": [
    {
     "name": "stdout",
     "output_type": "stream",
     "text": [
      "276\n",
      "[[36 40]\n",
      " [44 48]\n",
      " [52 56]]\n"
     ]
    }
   ],
   "source": [
    "print(arr.sum())\n",
    "print(arr.sum(axis=0))"
   ]
  },
  {
   "cell_type": "code",
   "execution_count": 57,
   "metadata": {},
   "outputs": [
    {
     "name": "stdout",
     "output_type": "stream",
     "text": [
      "[[ 6  9]\n",
      " [24 27]\n",
      " [42 45]\n",
      " [60 63]]\n",
      "[[ 1  5  9]\n",
      " [13 17 21]\n",
      " [25 29 33]\n",
      " [37 41 45]]\n"
     ]
    }
   ],
   "source": [
    "print(arr.sum(axis=1))\n",
    "print(arr.sum(axis=2))"
   ]
  },
  {
   "cell_type": "code",
   "execution_count": 58,
   "metadata": {},
   "outputs": [
    {
     "name": "stdout",
     "output_type": "stream",
     "text": [
      "[ 15  51  87 123]\n"
     ]
    }
   ],
   "source": [
    "print(arr.sum(axis=(1, 2)))"
   ]
  },
  {
   "cell_type": "code",
   "execution_count": null,
   "metadata": {},
   "outputs": [],
   "source": []
  },
  {
   "cell_type": "code",
   "execution_count": null,
   "metadata": {},
   "outputs": [],
   "source": []
  }
 ],
 "metadata": {
  "kernelspec": {
   "display_name": "Python 3",
   "language": "python",
   "name": "python3"
  },
  "language_info": {
   "codemirror_mode": {
    "name": "ipython",
    "version": 3
   },
   "file_extension": ".py",
   "mimetype": "text/x-python",
   "name": "python",
   "nbconvert_exporter": "python",
   "pygments_lexer": "ipython3",
   "version": "3.11.4"
  }
 },
 "nbformat": 4,
 "nbformat_minor": 2
}
